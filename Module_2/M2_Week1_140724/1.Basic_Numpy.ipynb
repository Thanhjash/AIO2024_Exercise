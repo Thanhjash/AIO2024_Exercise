{
 "cells": [
  {
   "cell_type": "code",
   "execution_count": 2,
   "metadata": {},
   "outputs": [],
   "source": [
    "import numpy as np"
   ]
  },
  {
   "cell_type": "code",
   "execution_count": 8,
   "metadata": {},
   "outputs": [
    {
     "name": "stdout",
     "output_type": "stream",
     "text": [
      "[0 1 2 3 4 5 6 7 8 9]\n",
      "[0 1 2 3 4 5 6 7 8 9]\n"
     ]
    }
   ],
   "source": [
    "#1\n",
    "arr = np.arange(10)\n",
    "print(arr)\n",
    "arr = np.arange(0,10,1)\n",
    "print(arr)"
   ]
  },
  {
   "cell_type": "code",
   "execution_count": 17,
   "metadata": {},
   "outputs": [
    {
     "name": "stdout",
     "output_type": "stream",
     "text": [
      "[[ True  True  True]\n",
      " [ True  True  True]\n",
      " [ True  True  True]]\n",
      "[[ True  True  True]\n",
      " [ True  True  True]\n",
      " [ True  True  True]]\n",
      "[[ True  True  True]\n",
      " [ True  True  True]\n",
      " [ True  True  True]]\n"
     ]
    }
   ],
   "source": [
    "arr1 = np.full((3,3), fill_value=True, dtype=bool)\n",
    "arr2 = np.ones((3,3)) > 0\n",
    "arr3 = np.ones((3,3), dtype=bool)\n",
    "print(arr1)\n",
    "print(arr2)\n",
    "print(arr3)\n",
    "\n"
   ]
  },
  {
   "cell_type": "code",
   "execution_count": 14,
   "metadata": {},
   "outputs": [
    {
     "name": "stdout",
     "output_type": "stream",
     "text": [
      "[1 3 5 7 9]\n"
     ]
    }
   ],
   "source": [
    "#3\n",
    "import numpy as np\n",
    "arr = np.arange(0,10)\n",
    "print(arr[arr%2 == 1])"
   ]
  },
  {
   "cell_type": "code",
   "execution_count": 18,
   "metadata": {},
   "outputs": [
    {
     "name": "stdout",
     "output_type": "stream",
     "text": [
      "[ 0 -1  2 -1  4 -1  6 -1  8 -1]\n"
     ]
    }
   ],
   "source": [
    "arr = np.arange(0,10)\n",
    "arr[arr%2 ==1] =-1\n",
    "print(arr)"
   ]
  },
  {
   "cell_type": "code",
   "execution_count": 19,
   "metadata": {},
   "outputs": [
    {
     "name": "stdout",
     "output_type": "stream",
     "text": [
      "Result: \n",
      " [[0 1 2 3 4]\n",
      " [5 6 7 8 9]\n",
      " [1 1 1 1 1]\n",
      " [1 1 1 1 1]]\n"
     ]
    }
   ],
   "source": [
    "#6\n",
    "arr1 = np.arange(10).reshape(2,-1)\n",
    "arr2 = np.repeat(1,10).reshape(2,-1)\n",
    "c = np.concatenate([arr1,arr2],axis =0)\n",
    "print(\"Result: \\n\", c)"
   ]
  },
  {
   "cell_type": "code",
   "execution_count": 20,
   "metadata": {},
   "outputs": [
    {
     "name": "stdout",
     "output_type": "stream",
     "text": [
      "C =  [[0 1 2 3 4 1 1 1 1 1]\n",
      " [5 6 7 8 9 1 1 1 1 1]]\n"
     ]
    }
   ],
   "source": [
    "#7\n",
    "arr1 = np.arange(10).reshape(2,-1)\n",
    "arr2 = np.repeat(1,10).reshape(2,-1)\n",
    "c = np.concatenate([arr1,arr2],axis =1)\n",
    "print(\"C = \", c)"
   ]
  },
  {
   "cell_type": "code",
   "execution_count": 25,
   "metadata": {},
   "outputs": [
    {
     "name": "stdout",
     "output_type": "stream",
     "text": [
      "[1 1 1 2 2 2 3 3 3]\n",
      "[1 2 3 1 2 3 1 2 3]\n"
     ]
    }
   ],
   "source": [
    "#8\n",
    "arr = np.array([1,2,3])\n",
    "print(np.repeat(arr,3))\n",
    "print(np.tile(arr,3))"
   ]
  },
  {
   "cell_type": "code",
   "execution_count": 28,
   "metadata": {},
   "outputs": [
    {
     "name": "stdout",
     "output_type": "stream",
     "text": [
      "(array([1, 3, 4], dtype=int64),)\n",
      "result [ 6  9 10]\n"
     ]
    }
   ],
   "source": [
    "#9\n",
    "a = np.array([2,6,1,9,10,3,27])\n",
    "index = np.where((a>=5)&(a<=10)) # nếu chỉ có condition thì trẩ về index\n",
    "print(index)\n",
    "print(\"result\", a[index])\n",
    "\n",
    "#một tuple chứa các mảng NumPy (ndarray), \n",
    "#mỗi mảng chứa các chỉ số (index) của các phần tử trong mảng thỏa mãn điều kiện."
   ]
  },
  {
   "cell_type": "code",
   "execution_count": 29,
   "metadata": {},
   "outputs": [
    {
     "name": "stdout",
     "output_type": "stream",
     "text": [
      "[6. 7. 9. 8. 9. 7. 5.]\n"
     ]
    }
   ],
   "source": [
    "import numpy as np \n",
    "\n",
    "def maxx(x,y): \n",
    "    if x >= y: \n",
    "        return x \n",
    "    else: \n",
    "        return y \n",
    "\n",
    "a = np.array([5,7,9,8,6,4,5]) \n",
    "b = np.array([6,3,4,8,9,7,1]) \n",
    "\n",
    "pair_max = np.vectorize(maxx,otypes=[float]) \n",
    "print (pair_max(a,b))"
   ]
  },
  {
   "cell_type": "code",
   "execution_count": 30,
   "metadata": {},
   "outputs": [
    {
     "name": "stdout",
     "output_type": "stream",
     "text": [
      "Result [6 7 9 8 9 7 5]\n"
     ]
    }
   ],
   "source": [
    "a = np.array([5,7,9,8,6,4,5])\n",
    "b = np.array([6,3,4,8,9,7,1])\n",
    "\n",
    "print(\"Result\",np.where(a<b, b, a)) \n",
    "\n",
    "#Kết quả trả về là một mảng NumPy (ndarray), \n",
    "# chứa các giá trị được chọn từ x hoặc y dựa trên điều kiện."
   ]
  }
 ],
 "metadata": {
  "kernelspec": {
   "display_name": "mambayolo",
   "language": "python",
   "name": "python3"
  },
  "language_info": {
   "codemirror_mode": {
    "name": "ipython",
    "version": 3
   },
   "file_extension": ".py",
   "mimetype": "text/x-python",
   "name": "python",
   "nbconvert_exporter": "python",
   "pygments_lexer": "ipython3",
   "version": "3.10.0"
  }
 },
 "nbformat": 4,
 "nbformat_minor": 2
}
