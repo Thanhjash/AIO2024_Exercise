{
 "cells": [
  {
   "cell_type": "code",
   "execution_count": null,
   "metadata": {},
   "outputs": [],
   "source": [
    "!gdown 1uT4Kw72skWu-uLRYFlIqpcFrP1S_S7IW"
   ]
  },
  {
   "cell_type": "code",
   "execution_count": 1,
   "metadata": {},
   "outputs": [
    {
     "name": "stdout",
     "output_type": "stream",
     "text": [
      "Max: 27.0 - Index: 175\n",
      "Mean TV: 147.0425\n",
      "Count of Sales >= 20: 40\n",
      "Mean Radio with Sales >= 15: 26.22293577981651\n",
      "Sum of Sales with Newspaper > Mean Newspaper: 1405.1\n",
      "scores[7:10]: ['Bad' 'Bad' 'Good']\n",
      "scores_closest[7:10]: ['Bad' 'Bad' 'Good']\n"
     ]
    }
   ],
   "source": [
    "import pandas as pd\n",
    "import numpy as np\n",
    "\n",
    "\n",
    "# Đọc dữ liệu\n",
    "df = pd.read_csv('advertising.csv')\n",
    "\n",
    "# Chuyển đổi DataFrame thành mảng NumPy\n",
    "data = df.to_numpy()\n",
    "\n",
    "# Câu hỏi 15: Lấy giá trị lớn nhất và chỉ mục tương ứng của nó trên cột Sales\n",
    "sales_column = df['Sales'].values\n",
    "max_sales = np.max(sales_column)\n",
    "index_max_sales = np.argmax(sales_column)\n",
    "print(f\"Max: {max_sales} - Index: {index_max_sales}\")\n",
    "\n",
    "# Câu hỏi 16: Giá trị trung bình của cột TV\n",
    "tv_column = df['TV'].values\n",
    "mean_tv = np.mean(tv_column)\n",
    "print(f\"Mean TV: {mean_tv}\")\n",
    "\n",
    "# Câu hỏi 17: Số lượng bản ghi có giá trị tại cột Sales lớn hơn hoặc bằng 20\n",
    "count_sales_gte_20 = np.sum(sales_column >= 20)\n",
    "print(f\"Count of Sales >= 20: {count_sales_gte_20}\")\n",
    "\n",
    "# Câu hỏi 18: Tính giá trị trung bình của cột Radio thoả mãn điều kiện giá trị tương ứng trên cột Sales lớn hơn hoặc bằng 15\n",
    "radio_column = df['Radio'].values\n",
    "radio_mean_sales_gte_15 = np.mean(radio_column[sales_column >= 15])\n",
    "print(f\"Mean Radio with Sales >= 15: {radio_mean_sales_gte_15}\")\n",
    "\n",
    "# Câu hỏi 19: Tính tổng các hàng của cột Sales với điều kiện giá trị Newspaper lớn hơn giá trị trung bình của cột Newspaper\n",
    "newspaper_column = df['Newspaper'].values\n",
    "mean_newspaper = np.mean(newspaper_column)\n",
    "sales_sum_newspaper_greater_mean = np.sum(sales_column[newspaper_column > mean_newspaper])\n",
    "print(f\"Sum of Sales with Newspaper > Mean Newspaper: {sales_sum_newspaper_greater_mean}\")\n",
    "\n",
    "# Câu hỏi 20: Tạo mảng scores chứa các giá trị Good, Average và Bad dựa trên giá trị trung bình của cột Sales\n",
    "mean_sales = np.mean(sales_column)\n",
    "scores = np.where(sales_column > mean_sales, 'Good', np.where(sales_column < mean_sales, 'Bad', 'Average'))\n",
    "print(f\"scores[7:10]: {scores[7:10]}\")\n",
    "\n",
    "# Câu hỏi 21: Tạo mảng scores dựa trên giá trị gần nhất với giá trị trung bình của cột Sales\n",
    "closest_sales = np.abs(sales_column - mean_sales)\n",
    "index_closest_sales = np.argmin(closest_sales)\n",
    "mean_closest_sales = sales_column[index_closest_sales]\n",
    "scores_closest = np.where(sales_column > mean_closest_sales, 'Good', np.where(sales_column < mean_closest_sales, 'Bad', 'Average'))\n",
    "print(f\"scores_closest[7:10]: {scores_closest[7:10]}\")\n"
   ]
  },
  {
   "cell_type": "code",
   "execution_count": null,
   "metadata": {},
   "outputs": [],
   "source": []
  }
 ],
 "metadata": {
  "kernelspec": {
   "display_name": "mambayolo",
   "language": "python",
   "name": "python3"
  },
  "language_info": {
   "codemirror_mode": {
    "name": "ipython",
    "version": 3
   },
   "file_extension": ".py",
   "mimetype": "text/x-python",
   "name": "python",
   "nbconvert_exporter": "python",
   "pygments_lexer": "ipython3",
   "version": "3.11.9"
  }
 },
 "nbformat": 4,
 "nbformat_minor": 2
}
