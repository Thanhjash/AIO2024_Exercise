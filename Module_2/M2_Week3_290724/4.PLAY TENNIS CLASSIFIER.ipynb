{
 "cells": [
  {
   "cell_type": "code",
   "execution_count": 1,
   "metadata": {},
   "outputs": [
    {
     "name": "stdout",
     "output_type": "stream",
     "text": [
      "[['Sunny' 'Hot' 'High' 'Weak' 'no']\n",
      " ['Sunny' 'Hot' 'High' 'Strong' 'no']\n",
      " ['Overcast' 'Hot' 'High' 'Weak' 'yes']\n",
      " ['Rain' 'Mild' 'High' 'Weak' 'yes']\n",
      " ['Rain' 'Cool' 'Normal' 'Weak' 'yes']\n",
      " ['Rain' 'Cool' 'Normal' 'Strong' 'no']\n",
      " ['Overcast' 'Cool' 'Normal' 'Strong' 'yes']\n",
      " ['Overcast' 'Mild' 'High' 'Weak' 'no']\n",
      " ['Sunny' 'Cool' 'Normal' 'Weak' 'yes']\n",
      " ['Rain' 'Mild' 'Normal' 'Weak' 'yes']]\n"
     ]
    }
   ],
   "source": [
    "import numpy as np\n",
    "\n",
    "def create_train_data():\n",
    "    data = [\n",
    "        ['Sunny', 'Hot', 'High', 'Weak', 'no'],\n",
    "        ['Sunny', 'Hot', 'High', 'Strong', 'no'],\n",
    "        ['Overcast', 'Hot', 'High', 'Weak', 'yes'],\n",
    "        ['Rain', 'Mild', 'High', 'Weak', 'yes'],\n",
    "        ['Rain', 'Cool', 'Normal', 'Weak', 'yes'],\n",
    "        ['Rain', 'Cool', 'Normal', 'Strong', 'no'],\n",
    "        ['Overcast', 'Cool', 'Normal', 'Strong', 'yes'],\n",
    "        ['Overcast', 'Mild', 'High', 'Weak', 'no'],\n",
    "        ['Sunny', 'Cool', 'Normal', 'Weak', 'yes'],\n",
    "        ['Rain', 'Mild', 'Normal', 'Weak', 'yes']\n",
    "    ]\n",
    "    return np.array(data)\n",
    "\n",
    "train_data = create_train_data()\n",
    "print(train_data)"
   ]
  },
  {
   "cell_type": "code",
   "execution_count": 2,
   "metadata": {},
   "outputs": [
    {
     "name": "stdout",
     "output_type": "stream",
     "text": [
      "P(play tennis = No) 0.4\n",
      "P(play tennis = Yes) 0.6\n"
     ]
    }
   ],
   "source": [
    "def compute_prior_probability(train_data):\n",
    "    y_unique = ['no', 'yes']\n",
    "    prior_probability = np.zeros(len(y_unique))\n",
    "    \n",
    "    total_samples = len(train_data)\n",
    "    yes_count = np.sum(train_data[:, -1] == 'yes')\n",
    "    no_count = total_samples - yes_count\n",
    "    \n",
    "    prior_probability[0] = no_count / total_samples\n",
    "    prior_probability[1] = yes_count / total_samples\n",
    "    \n",
    "    return prior_probability\n",
    "\n",
    "prior_probability = compute_prior_probability(train_data)\n",
    "print(\"P(play tennis = No)\", prior_probability[0])\n",
    "print(\"P(play tennis = Yes)\", prior_probability[1])"
   ]
  },
  {
   "cell_type": "code",
   "execution_count": 3,
   "metadata": {},
   "outputs": [],
   "source": [
    "def compute_conditional_probability(train_data):\n",
    "    y_unique = ['no', 'yes']\n",
    "    conditional_probability = []\n",
    "    list_x_name = []\n",
    "    \n",
    "    for i in range(0, train_data.shape[1] - 1):\n",
    "        x_unique = np.unique(train_data[:, i])\n",
    "        list_x_name.append(x_unique)\n",
    "        \n",
    "        x_conditional_probability = np.zeros((2, len(x_unique)))\n",
    "        \n",
    "        for j, y in enumerate(y_unique):\n",
    "            y_samples = train_data[train_data[:, -1] == y]\n",
    "            total_y_samples = len(y_samples)\n",
    "            \n",
    "            for k, x in enumerate(x_unique):\n",
    "                x_count = np.sum(y_samples[:, i] == x)\n",
    "                x_conditional_probability[j, k] = x_count / total_y_samples\n",
    "        \n",
    "        conditional_probability.append(x_conditional_probability)\n",
    "    \n",
    "    return conditional_probability, list_x_name\n",
    "\n",
    "conditional_probability, list_x_name = compute_conditional_probability(train_data)"
   ]
  },
  {
   "cell_type": "code",
   "execution_count": 4,
   "metadata": {},
   "outputs": [],
   "source": [
    "def get_index_from_value(feature_name, list_features):\n",
    "    return np.where(list_features == feature_name)[0][0]"
   ]
  },
  {
   "cell_type": "code",
   "execution_count": 5,
   "metadata": {},
   "outputs": [],
   "source": [
    "def train_naive_bayes(train_data):\n",
    "    prior_probability = compute_prior_probability(train_data)\n",
    "    conditional_probability, list_x_name = compute_conditional_probability(train_data)\n",
    "    return prior_probability, conditional_probability, list_x_name"
   ]
  },
  {
   "cell_type": "code",
   "execution_count": 6,
   "metadata": {},
   "outputs": [
    {
     "name": "stdout",
     "output_type": "stream",
     "text": [
      "Ad should not go!\n"
     ]
    }
   ],
   "source": [
    "def prediction_play_tennis(X, list_x_name, prior_probability, conditional_probability):\n",
    "    x1 = get_index_from_value(X[0], list_x_name[0])\n",
    "    x2 = get_index_from_value(X[1], list_x_name[1])\n",
    "    x3 = get_index_from_value(X[2], list_x_name[2])\n",
    "    x4 = get_index_from_value(X[3], list_x_name[3])\n",
    "    \n",
    "    p0 = prior_probability[0]\n",
    "    p1 = prior_probability[1]\n",
    "    \n",
    "    p0 *= conditional_probability[0][0, x1]\n",
    "    p0 *= conditional_probability[1][0, x2]\n",
    "    p0 *= conditional_probability[2][0, x3]\n",
    "    p0 *= conditional_probability[3][0, x4]\n",
    "    \n",
    "    p1 *= conditional_probability[0][1, x1]\n",
    "    p1 *= conditional_probability[1][1, x2]\n",
    "    p1 *= conditional_probability[2][1, x3]\n",
    "    p1 *= conditional_probability[3][1, x4]\n",
    "    \n",
    "    if p0 > p1:\n",
    "        y_pred = 0\n",
    "    else:\n",
    "        y_pred = 1\n",
    "    \n",
    "    return y_pred\n",
    "\n",
    "# Dự đoán cho ngày D11\n",
    "X = ['Sunny', 'Cool', 'High', 'Strong']\n",
    "data = create_train_data()\n",
    "prior_probability, conditional_probability, list_x_name = train_naive_bayes(data)\n",
    "pred = prediction_play_tennis(X, list_x_name, prior_probability, conditional_probability)\n",
    "\n",
    "if pred:\n",
    "    print(\"Ad should go!\")\n",
    "else:\n",
    "    print(\"Ad should not go!\")"
   ]
  },
  {
   "cell_type": "code",
   "execution_count": null,
   "metadata": {},
   "outputs": [],
   "source": []
  }
 ],
 "metadata": {
  "kernelspec": {
   "display_name": "mambayolo",
   "language": "python",
   "name": "python3"
  },
  "language_info": {
   "codemirror_mode": {
    "name": "ipython",
    "version": 3
   },
   "file_extension": ".py",
   "mimetype": "text/x-python",
   "name": "python",
   "nbconvert_exporter": "python",
   "pygments_lexer": "ipython3",
   "version": "3.11.9"
  }
 },
 "nbformat": 4,
 "nbformat_minor": 2
}
