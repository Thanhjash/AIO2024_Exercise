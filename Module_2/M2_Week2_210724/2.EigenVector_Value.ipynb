{
 "cells": [
  {
   "cell_type": "code",
   "execution_count": 1,
   "metadata": {},
   "outputs": [
    {
     "name": "stdout",
     "output_type": "stream",
     "text": [
      "Matrix:\n",
      "[[4 2]\n",
      " [1 3]]\n",
      "Eigenvalues:\n",
      "[5. 2.]\n",
      "Eigenvectors:\n",
      "[[ 0.89442719 -0.70710678]\n",
      " [ 0.4472136   0.70710678]]\n"
     ]
    }
   ],
   "source": [
    "import numpy as np\n",
    "\n",
    "def calculate_eigen(matrix):\n",
    "    # Kiểm tra nếu ma trận là vuông\n",
    "    if matrix.shape[0] != matrix.shape[1]:\n",
    "        raise ValueError(\"Ma trận phải là ma trận vuông để tính eigenvalues và eigenvectors\")\n",
    "    \n",
    "    # Tính eigenvalues và eigenvectors\n",
    "    eigenvalues, eigenvectors = np.linalg.eig(matrix)\n",
    "    return eigenvalues, eigenvectors\n",
    "\n",
    "# Ví dụ sử dụng\n",
    "matrix = np.array([[4, 2],\n",
    "                   [1, 3]])\n",
    "\n",
    "eigenvalues, eigenvectors = calculate_eigen(matrix)\n",
    "\n",
    "print(\"Matrix:\")\n",
    "print(matrix)\n",
    "print(\"Eigenvalues:\")\n",
    "print(eigenvalues)\n",
    "print(\"Eigenvectors:\")\n",
    "print(eigenvectors)\n"
   ]
  },
  {
   "cell_type": "code",
   "execution_count": null,
   "metadata": {},
   "outputs": [],
   "source": []
  }
 ],
 "metadata": {
  "kernelspec": {
   "display_name": "mambayolo",
   "language": "python",
   "name": "python3"
  },
  "language_info": {
   "codemirror_mode": {
    "name": "ipython",
    "version": 3
   },
   "file_extension": ".py",
   "mimetype": "text/x-python",
   "name": "python",
   "nbconvert_exporter": "python",
   "pygments_lexer": "ipython3",
   "version": "3.11.9"
  }
 },
 "nbformat": 4,
 "nbformat_minor": 2
}
