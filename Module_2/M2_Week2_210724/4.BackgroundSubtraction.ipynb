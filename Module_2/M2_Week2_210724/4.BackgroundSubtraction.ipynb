{
 "cells": [
  {
   "cell_type": "code",
   "execution_count": 20,
   "metadata": {},
   "outputs": [],
   "source": [
    "import os"
   ]
  },
  {
   "cell_type": "code",
   "execution_count": 21,
   "metadata": {},
   "outputs": [
    {
     "name": "stdout",
     "output_type": "stream",
     "text": [
      "d:\\1.Study\\AIO\\4.Code\\AIO2024_Exercise\\Module_2\\M2_Week2_210724\n"
     ]
    }
   ],
   "source": [
    "import os\n",
    "print(os.getcwd())\n"
   ]
  },
  {
   "cell_type": "code",
   "execution_count": 22,
   "metadata": {},
   "outputs": [],
   "source": [
    "import cv2\n",
    "import numpy as np\n"
   ]
  },
  {
   "cell_type": "code",
   "execution_count": 23,
   "metadata": {},
   "outputs": [],
   "source": [
    "# Đọc và resize ảnh\n",
    "bg1_image = cv2.imread('Exercise04_Data/GreenBackground.png')  # Original Background Image\n",
    "bg1_image = cv2.resize(bg1_image, (678, 381))\n",
    "\n",
    "ob_image = cv2.imread('Exercise04_Data/Object.png')  # Object Image\n",
    "ob_image = cv2.resize(ob_image, (678, 381))\n",
    "\n",
    "bg2_image = cv2.imread('Exercise04_Data/NewBackground.jpg')  # Target Background Image\n",
    "bg2_image = cv2.resize(bg2_image, (678, 381))\n"
   ]
  },
  {
   "cell_type": "code",
   "execution_count": 24,
   "metadata": {},
   "outputs": [],
   "source": [
    "def compute_difference(bg_img, input_img):\n",
    "    # Tính toán sự khác biệt tuyệt đối giữa hai ảnh\n",
    "    difference = cv2.absdiff(bg_img, input_img)\n",
    "    \n",
    "    # Chuyển sự khác biệt này thành ảnh grayscale để dễ xử lý\n",
    "    difference_gray = cv2.cvtColor(difference, cv2.COLOR_BGR2GRAY)\n",
    "    \n",
    "    return difference_gray\n"
   ]
  },
  {
   "cell_type": "code",
   "execution_count": 25,
   "metadata": {},
   "outputs": [],
   "source": [
    "difference_single_channel = compute_difference(bg1_image, ob_image)\n",
    "cv2.imshow('Difference', difference_single_channel)\n",
    "cv2.waitKey(0)\n",
    "cv2.destroyAllWindows()\n"
   ]
  },
  {
   "cell_type": "code",
   "execution_count": 26,
   "metadata": {},
   "outputs": [],
   "source": [
    "def compute_binary_mask(difference_single_channel):\n",
    "    # Áp dụng ngưỡng để tạo ra binary mask\n",
    "    _, difference_binary = cv2.threshold(difference_single_channel, 50, 250, cv2.THRESH_BINARY)\n",
    "    \n",
    "    return difference_binary\n"
   ]
  },
  {
   "cell_type": "code",
   "execution_count": 27,
   "metadata": {},
   "outputs": [],
   "source": [
    "binary_mask = compute_binary_mask(difference_single_channel)\n",
    "cv2.imshow('Binary Mask', binary_mask)\n",
    "cv2.waitKey(0)\n",
    "cv2.destroyAllWindows()\n"
   ]
  },
  {
   "cell_type": "code",
   "execution_count": 28,
   "metadata": {},
   "outputs": [],
   "source": [
    "def replace_background(bg1_image, bg2_image, ob_image):\n",
    "    # Tính toán sự khác biệt và binary mask\n",
    "    difference_single_channel = compute_difference(bg1_image, ob_image)\n",
    "    binary_mask = compute_binary_mask(difference_single_channel)\n",
    "    \n",
    "    # Tạo ảnh output bằng cách sử dụng mask\n",
    "    output = np.where(binary_mask[:, :, np.newaxis] == 255, ob_image, bg2_image)\n",
    "    \n",
    "    return output\n"
   ]
  },
  {
   "cell_type": "code",
   "execution_count": 31,
   "metadata": {},
   "outputs": [],
   "source": [
    "output_image = replace_background(bg1_image, bg2_image, ob_image)\n",
    "cv2.imshow('Output Image', output_image)\n",
    "cv2.waitKey(0)\n",
    "cv2.destroyAllWindows()\n"
   ]
  },
  {
   "cell_type": "code",
   "execution_count": 32,
   "metadata": {},
   "outputs": [],
   "source": [
    "# Bước 2: Tính sự khác biệt\n",
    "def compute_difference(bg_img, input_img):\n",
    "    difference = cv2.absdiff(bg_img, input_img)\n",
    "    difference_gray = cv2.cvtColor(difference, cv2.COLOR_BGR2GRAY)\n",
    "    return difference_gray\n",
    "\n",
    "# Bước 3: Tạo binary mask\n",
    "def compute_binary_mask(difference_single_channel):\n",
    "    _, difference_binary = cv2.threshold(difference_single_channel, 50, 255, cv2.THRESH_BINARY)\n",
    "    return difference_binary\n",
    "\n",
    "# Bước 4: Thay nền\n",
    "def replace_background(bg1_image, bg2_image, ob_image):\n",
    "    difference_single_channel = compute_difference(bg1_image, ob_image)\n",
    "    binary_mask = compute_binary_mask(difference_single_channel)\n",
    "    output = np.where(binary_mask[:, :, np.newaxis] == 255, ob_image, bg2_image)\n",
    "    return output\n",
    "\n",
    "# Bước 5: Hiển thị kết quả\n",
    "output_image = replace_background(bg1_image, bg2_image, ob_image)\n",
    "cv2.imshow('Output Image', output_image)\n",
    "cv2.waitKey(0)\n",
    "cv2.destroyAllWindows()"
   ]
  },
  {
   "cell_type": "code",
   "execution_count": null,
   "metadata": {},
   "outputs": [],
   "source": []
  }
 ],
 "metadata": {
  "kernelspec": {
   "display_name": "mambayolo",
   "language": "python",
   "name": "python3"
  },
  "language_info": {
   "codemirror_mode": {
    "name": "ipython",
    "version": 3
   },
   "file_extension": ".py",
   "mimetype": "text/x-python",
   "name": "python",
   "nbconvert_exporter": "python",
   "pygments_lexer": "ipython3",
   "version": "3.11.9"
  }
 },
 "nbformat": 4,
 "nbformat_minor": 2
}
