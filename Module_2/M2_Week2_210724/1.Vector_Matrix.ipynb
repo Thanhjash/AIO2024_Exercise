{
 "cells": [
  {
   "cell_type": "markdown",
   "metadata": {},
   "source": [
    "Exercise 1"
   ]
  },
  {
   "cell_type": "code",
   "execution_count": 7,
   "metadata": {},
   "outputs": [
    {
     "name": "stdout",
     "output_type": "stream",
     "text": [
      "[1 2]\n",
      "1\n",
      "2\n",
      "2.23606797749979\n",
      "2.23606797749979\n"
     ]
    }
   ],
   "source": [
    "import numpy as np\n",
    "import math\n",
    "# Length of a vector\n",
    "vector = np.array([1,2])\n",
    "print(vector)\n",
    "\n",
    "for x in vector:\n",
    "    print(x)\n",
    "sum = 0\n",
    "for x in vector:\n",
    "    sum = sum + x*x\n",
    "length = math.sqrt(sum)\n",
    "print(length)\n",
    "\n",
    "\n",
    "norm = np.sqrt(np.sum([v**2 for v in vector]))\n",
    "print(norm)"
   ]
  },
  {
   "cell_type": "code",
   "execution_count": 8,
   "metadata": {},
   "outputs": [
    {
     "name": "stdout",
     "output_type": "stream",
     "text": [
      "10.54\n"
     ]
    }
   ],
   "source": [
    "def compute_vector_length (vector):\n",
    "    len = np.linalg.norm(vector)\n",
    "    return len\n",
    "vector = np.array([5,9,-2,-1])\n",
    "result = compute_vector_length(vector)\n",
    "print(round(result,2))\n"
   ]
  },
  {
   "cell_type": "code",
   "execution_count": 16,
   "metadata": {},
   "outputs": [
    {
     "name": "stdout",
     "output_type": "stream",
     "text": [
      "[[5 2 6 1]\n",
      " [7 5 9 3]\n",
      " [2 8 8 5]]\n",
      "result:\n",
      " [[ 0.17076905  1.5442283 ]\n",
      " [-0.17765311 -2.8265856 ]]\n"
     ]
    }
   ],
   "source": [
    "# Dot product\n",
    "vector1 = np.array([[-1,2],\n",
    "                    [3,-4]])\n",
    "vector2 = np.random.rand(2,2)\n",
    "vector3 = np.random.randint(0,10, (3,4))\n",
    "print(vector3)\n",
    "\n",
    "# 2 cách là dùng tọa độ hoặc cos góc xen giữa\n",
    "def compute_dot_product(vector1,vector2):\n",
    "    result = np.dot(vector1,vector2)\n",
    "\n",
    "    return result\n",
    "\n",
    "# cách 2 dùng @\n",
    "print(\"result:\\n\", vector1@vector2) "
   ]
  },
  {
   "cell_type": "code",
   "execution_count": null,
   "metadata": {},
   "outputs": [],
   "source": [
    "# Multiply matrix with a vector\n",
    "import numpy as np\n",
    "\n",
    "def vector_mul_matrix(vector, matrix):\n",
    "    # Kiểm tra tính hợp lệ của phép nhân (số cột của vector phải bằng số hàng của matrix)\n",
    "    if vector.shape[1] != matrix.shape[0]:\n",
    "        raise ValueError(\"Số cột của vector phải bằng số hàng của ma trận\")\n",
    "    \n",
    "    # Thực hiện phép nhân\n",
    "    result = np.dot(vector, matrix)\n",
    "    return result\n",
    "\n",
    "\n",
    "import numpy as np\n",
    "\n",
    "def matrix_mul_matrix(matrix1, matrix2):\n",
    "    # Kiểm tra tính hợp lệ của phép nhân (số cột của matrix1 phải bằng số hàng của matrix2)\n",
    "    if matrix1.shape[1] != matrix2.shape[0]:\n",
    "        raise ValueError(\"Số cột của ma trận thứ nhất phải bằng số hàng của ma trận thứ hai\")\n",
    "    \n",
    "    # Thực hiện phép nhân\n",
    "    result = np.dot(matrix1, matrix2)\n",
    "    return result"
   ]
  },
  {
   "cell_type": "code",
   "execution_count": 17,
   "metadata": {},
   "outputs": [
    {
     "name": "stdout",
     "output_type": "stream",
     "text": [
      "Matrix:\n",
      "[[1 2]\n",
      " [3 4]]\n",
      "Inverse Matrix:\n",
      "[[-2.   1. ]\n",
      " [ 1.5 -0.5]]\n"
     ]
    }
   ],
   "source": [
    "import numpy as np\n",
    "\n",
    "def matrix_inverse(matrix):\n",
    "    # Kiểm tra nếu ma trận là vuông\n",
    "    if matrix.shape[0] != matrix.shape[1]:\n",
    "        raise ValueError(\"Ma trận phải là ma trận vuông để có nghịch đảo\")\n",
    "    \n",
    "    try:\n",
    "        # Tính ma trận nghịch đảo\n",
    "        inverse_matrix = np.linalg.inv(matrix)\n",
    "        return inverse_matrix\n",
    "    except np.linalg.LinAlgError:\n",
    "        raise ValueError(\"Ma trận này không có nghịch đảo (determinant = 0)\")\n",
    "\n",
    "# Ví dụ sử dụng\n",
    "matrix = np.array([[1, 2],\n",
    "                   [3, 4]])\n",
    "\n",
    "inverse = matrix_inverse(matrix)\n",
    "print(\"Matrix:\")\n",
    "print(matrix)\n",
    "print(\"Inverse Matrix:\")\n",
    "print(inverse)\n"
   ]
  },
  {
   "cell_type": "code",
   "execution_count": null,
   "metadata": {},
   "outputs": [],
   "source": []
  },
  {
   "cell_type": "markdown",
   "metadata": {},
   "source": [
    "Exercise 2\n"
   ]
  },
  {
   "cell_type": "markdown",
   "metadata": {},
   "source": [
    "Eigenvector và eigenvalue"
   ]
  },
  {
   "cell_type": "code",
   "execution_count": 19,
   "metadata": {},
   "outputs": [
    {
     "name": "stdout",
     "output_type": "stream",
     "text": [
      "Matrix:\n",
      "[[4 2]\n",
      " [1 3]]\n",
      "Eigenvalues:\n",
      "[5. 2.]\n",
      "Eigenvectors:\n",
      "[[ 0.89442719 -0.70710678]\n",
      " [ 0.4472136   0.70710678]]\n"
     ]
    }
   ],
   "source": []
  },
  {
   "cell_type": "code",
   "execution_count": null,
   "metadata": {},
   "outputs": [],
   "source": [
    "!gdown"
   ]
  },
  {
   "cell_type": "markdown",
   "metadata": {},
   "source": []
  }
 ],
 "metadata": {
  "kernelspec": {
   "display_name": "mambayolo",
   "language": "python",
   "name": "python3"
  },
  "language_info": {
   "codemirror_mode": {
    "name": "ipython",
    "version": 3
   },
   "file_extension": ".py",
   "mimetype": "text/x-python",
   "name": "python",
   "nbconvert_exporter": "python",
   "pygments_lexer": "ipython3",
   "version": "3.11.9"
  }
 },
 "nbformat": 4,
 "nbformat_minor": 2
}
